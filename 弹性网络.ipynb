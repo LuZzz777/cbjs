{
 "cells": [
  {
   "cell_type": "code",
   "execution_count": null,
   "metadata": {},
   "outputs": [],
   "source": [
    "%matplotlib inline\n",
    "import numpy as np \n",
    "import pandas as pd \n",
    "from scipy import stats\n",
    "from scipy.stats import norm, skew\n",
    "from sklearn import preprocessing\n",
    "from sklearn.metrics import r2_score\n",
    "from sklearn.metrics import mean_squared_error\n",
    "from sklearn.model_selection import train_test_split\n",
    "from sklearn.linear_model import ElasticNetCV, ElasticNet\n",
    "from sklearn.model_selection import RandomizedSearchCV\n",
    "from sklearn.model_selection import StratifiedKFold\n",
    "import matplotlib.pyplot as plt \n",
    "import seaborn as sns\n",
    "def ignore_warn(*args, **kwargs):\n",
    "    pass\n",
    "import warnings\n",
    "warnings.warn = ignore_warn\n",
    "pd.set_option('display.float_format', lambda x: '{:.3f}'.format(x))"
   ]
  },
  {
   "cell_type": "markdown",
   "metadata": {},
   "source": [
    "一、读取数据"
   ]
  },
  {
   "cell_type": "code",
   "execution_count": null,
   "metadata": {},
   "outputs": [],
   "source": [
    "# 读取文件\n",
    "df=pd.read_excel(r'/Users/luzzzz/Desktop/数据预测/时间序列数据.xlsx')"
   ]
  },
  {
   "cell_type": "code",
   "execution_count": null,
   "metadata": {},
   "outputs": [],
   "source": [
    "# 查看空值情况\n",
    "(df.isnull().sum() / len(df)).sort_values(ascending=False)[:20]"
   ]
  },
  {
   "cell_type": "markdown",
   "metadata": {},
   "source": [
    "二、纠偏"
   ]
  },
  {
   "cell_type": "code",
   "execution_count": null,
   "metadata": {},
   "outputs": [],
   "source": [
    "sns.distplot(df['新增确诊'] , fit=norm);\n",
    " \n",
    "#得到均值和标准差\n",
    "(mu, sigma) = norm.fit(df['新增确诊'])\n",
    "print( '\\n mu = {:.2f} and sigma = {:.2f}\\n'.format(mu, sigma))\n",
    " \n",
    "plt.legend(['Normal dist. ($\\mu=$ {:.2f} and $\\sigma=$ {:.2f} )'.format(mu, sigma)],\n",
    "            loc='best')\n",
    "plt.ylabel('Frequency')\n",
    "plt.title('confirmed distribution')"
   ]
  },
  {
   "cell_type": "code",
   "execution_count": null,
   "metadata": {},
   "outputs": [],
   "source": [
    " #画QQ图\n",
    "fig = plt.figure()\n",
    "res = stats.probplot(df['新增确诊'], plot=plt)\n",
    "plt.show();"
   ]
  },
  {
   "cell_type": "code",
   "execution_count": null,
   "metadata": {},
   "outputs": [],
   "source": [
    "sns.distplot(np.log1p(df['新增确诊']) , fit=norm);\n",
    " \n",
    "# 纠偏,对数化处理。\n",
    "(mu, sigma) = norm.fit(np.log1p(df['新增确诊']))\n",
    "print( '\\n mu = {:.2f} and sigma = {:.2f}\\n'.format(mu, sigma))"
   ]
  },
  {
   "cell_type": "code",
   "execution_count": null,
   "metadata": {},
   "outputs": [],
   "source": [
    "#纠偏后再化分布图\n",
    "plt.legend(['Normal dist. ($\\mu=$ {:.2f} and $\\sigma=$ {:.2f} )'.format(mu, sigma)],\n",
    "            loc='best')\n",
    "plt.ylabel('Frequency')\n",
    "plt.title('log(confirmed+1) distribution')"
   ]
  },
  {
   "cell_type": "code",
   "execution_count": null,
   "metadata": {},
   "outputs": [],
   "source": [
    " \n",
    "#画QQ图\n",
    "fig = plt.figure()\n",
    "res = stats.probplot(np.log1p(df['新增确诊']), plot=plt)\n",
    "plt.show();"
   ]
  },
  {
   "cell_type": "code",
   "execution_count": null,
   "metadata": {},
   "outputs": [],
   "source": [
    "print(\"数据清洗前的特征变量的数量为:\",len(df.columns)-1)\n",
    "#对目标变量进行对数化纠偏\n",
    "df[\"新增确诊\"] = np.log1p(df[\"新增确诊\"])\n",
    "#对数值型特征变量进行对数化处理:1.过滤出数值型变量,2.计算偏度,3.对偏度大于0.75的数据进行对数化纠偏\n",
    "#1.过滤出数值型变量\n",
    "numeric_feats = df.dtypes[df.dtypes != \"object\"].index\n",
    "#2.计算偏度\n",
    "skewed_feats = df[numeric_feats].apply(lambda x: skew(x.dropna())) #compute skewness\n",
    "skewed_feats = skewed_feats[skewed_feats > 0.75]\n",
    "skewed_feats = skewed_feats.index\n",
    "#3.对偏度大于0.75的数据进行对数化纠偏\n",
    "df[skewed_feats] = np.log1p(df[skewed_feats])\n",
    "#4.对分类型变量进行one-hot编码,分类型变量会被横向展开为多个变量\n",
    "df = pd.get_dummies(df)\n",
    "#用均值填充空值\n",
    "df = df.fillna(df.mean())\n",
    " \n",
    "print(\"数据清洗后的特征变量的数量为:\",len(df.columns)-1)\n",
    "#创建训练集和测试集\n",
    "X, y = df.drop(['新增确诊'], axis = 1), df['新增确诊']\n",
    "X_train, X_test, y_train, y_test  = train_test_split(X, y, test_size = 0.2, random_state = 0)"
   ]
  },
  {
   "cell_type": "markdown",
   "metadata": {},
   "source": [
    "三、训练模型"
   ]
  },
  {
   "cell_type": "code",
   "execution_count": null,
   "metadata": {},
   "outputs": [],
   "source": [
    "# 利用弹性网络\n",
    "cv_model = ElasticNetCV(l1_ratio=0.5, eps=1e-3, n_alphas=100, fit_intercept=True, \n",
    "                        normalize=True, precompute='auto', max_iter=2000, tol=0.0001, cv=6, \n",
    "                        copy_X=True, verbose=0, n_jobs=-1, positive=False, random_state=0)"
   ]
  },
  {
   "cell_type": "code",
   "execution_count": null,
   "metadata": {},
   "outputs": [],
   "source": [
    "# 训练模型              \n",
    "cv_model.fit(X_train, y_train)"
   ]
  },
  {
   "cell_type": "code",
   "execution_count": null,
   "metadata": {},
   "outputs": [],
   "source": [
    "# 计算最佳迭代次数、alpha和ratio\n",
    "print('最佳 alpha: %.8f'%cv_model.alpha_)\n",
    "print('最佳 l1_ratio: %.3f'%cv_model.l1_ratio_)\n",
    "print('迭代次数 %d'%cv_model.n_iter_)"
   ]
  },
  {
   "cell_type": "code",
   "execution_count": null,
   "metadata": {},
   "outputs": [],
   "source": [
    "# 输出结果\n",
    "y_train_pred = cv_model.predict(X_train)\n",
    "y_pred = cv_model.predict(X_test)\n",
    "print('Train r2 score: ', r2_score(y_train_pred, y_train))\n",
    "print('Test r2 score: ', r2_score(y_test, y_pred))\n",
    "train_mse = mean_squared_error(y_train_pred, y_train)\n",
    "test_mse = mean_squared_error(y_pred, y_test)\n",
    "train_rmse = np.sqrt(train_mse)\n",
    "test_rmse = np.sqrt(test_mse)\n",
    "print('Train RMSE: %.4f' % train_rmse)\n",
    "print('Test RMSE: %.4f' % test_rmse)"
   ]
  },
  {
   "cell_type": "code",
   "execution_count": null,
   "metadata": {},
   "outputs": [],
   "source": []
  },
  {
   "cell_type": "code",
   "execution_count": null,
   "metadata": {},
   "outputs": [],
   "source": []
  }
 ],
 "metadata": {
  "kernelspec": {
   "display_name": "Python 3",
   "language": "python",
   "name": "python3"
  },
  "language_info": {
   "codemirror_mode": {
    "name": "ipython",
    "version": 3
   },
   "file_extension": ".py",
   "mimetype": "text/x-python",
   "name": "python",
   "nbconvert_exporter": "python",
   "pygments_lexer": "ipython3",
   "version": "3.8.5"
  }
 },
 "nbformat": 4,
 "nbformat_minor": 4
}
